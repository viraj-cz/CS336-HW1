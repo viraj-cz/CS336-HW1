{
 "cells": [
  {
   "cell_type": "code",
   "execution_count": 95,
   "id": "9c915377",
   "metadata": {},
   "outputs": [],
   "source": [
    "import torch\n",
    "import regex as re\n",
    "from einops import rearrange, reduce, repeat\n",
    "import os\n",
    "import multiprocessing\n",
    "from collections import defaultdict, Counter"
   ]
  },
  {
   "cell_type": "code",
   "execution_count": 148,
   "id": "8ef8830e",
   "metadata": {},
   "outputs": [],
   "source": [
    "# vocab init\n",
    "encoding_vocab = {bytes([i]): i for i in range(256)}\n",
    "vocab_max_position = 256\n",
    "special_token = \"<|endoftext|>\"\n",
    "encoding_vocab[special_token] = vocab_max_position\n",
    "vocab_max_position += 1"
   ]
  },
  {
   "cell_type": "code",
   "execution_count": 137,
   "id": "b57b7211",
   "metadata": {},
   "outputs": [],
   "source": [
    "#regex pattern to split text\n",
    "PAT = r\"\"\"'s|'t|'re|'ve|'m|'ll|'d| ?\\p{L}+| ?\\p{N}+| ?[^\\s\\p{L}\\p{N}]+|\\s+(?!\\S)|\\s+\"\"\""
   ]
  },
  {
   "cell_type": "code",
   "execution_count": 149,
   "id": "a95c8a15",
   "metadata": {},
   "outputs": [],
   "source": [
    "test_corpus = '''low low low low low\n",
    "lower lower widest widest widest\n",
    "newest newest newest newest newest newest'''\n"
   ]
  },
  {
   "cell_type": "code",
   "execution_count": 139,
   "id": "e422a2e6",
   "metadata": {},
   "outputs": [],
   "source": [
    "# counting_dict: dict[tuple[bytes], int] = defaultdict(int)\n",
    "# for match in re.finditer(PAT, test_corpus):\n",
    "#     counting_dict[match.group()] += 1"
   ]
  },
  {
   "cell_type": "code",
   "execution_count": 185,
   "id": "bae55dac",
   "metadata": {},
   "outputs": [],
   "source": [
    "parts = re.findall(r\"\\S+\", test_corpus)\n",
    "parts = [tuple(i) for i in parts]\n",
    "counting_dict = defaultdict(int, Counter(parts)) #Counter is a cool pythonic way to make a dict\n",
    "parts = list(set(parts)) #making parts unique after counting is done\n",
    "merges = []"
   ]
  },
  {
   "cell_type": "code",
   "execution_count": null,
   "id": "1382de54",
   "metadata": {},
   "outputs": [],
   "source": [
    "merge_dict = defaultdict(int)\n",
    "\n",
    "for i,j in counting_dict.items():\n",
    "    total_letters = len(i)\n",
    "    k = 0\n",
    "    while (k+1) < total_letters:\n",
    "        merge_dict[i[k] + i[k+1]] += 1 * j\n",
    "        k +=1\n",
    "\n",
    "#lexiographically higherst occuring one:\n",
    "new_token = max(merge_dict.items(), key=lambda x: (x[1], x[0]))[0]\n",
    "\n",
    "encoding_vocab[new_token] = vocab_max_position\n",
    "vocab_max_position += 1\n",
    "        \n",
    "\n",
    "to_be_removed = []\n",
    "for i in parts:\n",
    "    lenght = len(i)\n",
    "    j = 0\n",
    "    while (j+1) < lenght:\n",
    "        if (i[j] + i[j+1]) == new_token:\n",
    "            to_be_removed.append(i)\n",
    "            new_i = i[:j] + (new_token,) + i[j+2:]\n",
    "            counting_dict[new_i] = counting_dict.pop(i)\n",
    "            parts.append(new_i)\n",
    "        j+= 1\n",
    "\n",
    "\n",
    "    \n",
    "for i in to_be_removed:\n",
    "    parts.remove(i)\n",
    "\n"
   ]
  },
  {
   "cell_type": "code",
   "execution_count": 187,
   "id": "dca719b0",
   "metadata": {},
   "outputs": [
    {
     "name": "stdout",
     "output_type": "stream",
     "text": [
      "[('l', 'o'), ('o', 'w'), ('l', 'o'), ('o', 'w'), ('w', 'e'), ('e', 'r'), ('w', 'i'), ('i', 'd'), ('d', 'e'), ('e', 's'), ('s', 't'), ('n', 'e'), ('e', 'w'), ('w', 'e'), ('e', 's'), ('s', 't')]\n"
     ]
    }
   ],
   "source": [
    "print(merges)"
   ]
  },
  {
   "cell_type": "code",
   "execution_count": 166,
   "id": "35f1040f",
   "metadata": {},
   "outputs": [
    {
     "name": "stdout",
     "output_type": "stream",
     "text": [
      "{b'\\x00': 0, b'\\x01': 1, b'\\x02': 2, b'\\x03': 3, b'\\x04': 4, b'\\x05': 5, b'\\x06': 6, b'\\x07': 7, b'\\x08': 8, b'\\t': 9, b'\\n': 10, b'\\x0b': 11, b'\\x0c': 12, b'\\r': 13, b'\\x0e': 14, b'\\x0f': 15, b'\\x10': 16, b'\\x11': 17, b'\\x12': 18, b'\\x13': 19, b'\\x14': 20, b'\\x15': 21, b'\\x16': 22, b'\\x17': 23, b'\\x18': 24, b'\\x19': 25, b'\\x1a': 26, b'\\x1b': 27, b'\\x1c': 28, b'\\x1d': 29, b'\\x1e': 30, b'\\x1f': 31, b' ': 32, b'!': 33, b'\"': 34, b'#': 35, b'$': 36, b'%': 37, b'&': 38, b\"'\": 39, b'(': 40, b')': 41, b'*': 42, b'+': 43, b',': 44, b'-': 45, b'.': 46, b'/': 47, b'0': 48, b'1': 49, b'2': 50, b'3': 51, b'4': 52, b'5': 53, b'6': 54, b'7': 55, b'8': 56, b'9': 57, b':': 58, b';': 59, b'<': 60, b'=': 61, b'>': 62, b'?': 63, b'@': 64, b'A': 65, b'B': 66, b'C': 67, b'D': 68, b'E': 69, b'F': 70, b'G': 71, b'H': 72, b'I': 73, b'J': 74, b'K': 75, b'L': 76, b'M': 77, b'N': 78, b'O': 79, b'P': 80, b'Q': 81, b'R': 82, b'S': 83, b'T': 84, b'U': 85, b'V': 86, b'W': 87, b'X': 88, b'Y': 89, b'Z': 90, b'[': 91, b'\\\\': 92, b']': 93, b'^': 94, b'_': 95, b'`': 96, b'a': 97, b'b': 98, b'c': 99, b'd': 100, b'e': 101, b'f': 102, b'g': 103, b'h': 104, b'i': 105, b'j': 106, b'k': 107, b'l': 108, b'm': 109, b'n': 110, b'o': 111, b'p': 112, b'q': 113, b'r': 114, b's': 115, b't': 116, b'u': 117, b'v': 118, b'w': 119, b'x': 120, b'y': 121, b'z': 122, b'{': 123, b'|': 124, b'}': 125, b'~': 126, b'\\x7f': 127, b'\\x80': 128, b'\\x81': 129, b'\\x82': 130, b'\\x83': 131, b'\\x84': 132, b'\\x85': 133, b'\\x86': 134, b'\\x87': 135, b'\\x88': 136, b'\\x89': 137, b'\\x8a': 138, b'\\x8b': 139, b'\\x8c': 140, b'\\x8d': 141, b'\\x8e': 142, b'\\x8f': 143, b'\\x90': 144, b'\\x91': 145, b'\\x92': 146, b'\\x93': 147, b'\\x94': 148, b'\\x95': 149, b'\\x96': 150, b'\\x97': 151, b'\\x98': 152, b'\\x99': 153, b'\\x9a': 154, b'\\x9b': 155, b'\\x9c': 156, b'\\x9d': 157, b'\\x9e': 158, b'\\x9f': 159, b'\\xa0': 160, b'\\xa1': 161, b'\\xa2': 162, b'\\xa3': 163, b'\\xa4': 164, b'\\xa5': 165, b'\\xa6': 166, b'\\xa7': 167, b'\\xa8': 168, b'\\xa9': 169, b'\\xaa': 170, b'\\xab': 171, b'\\xac': 172, b'\\xad': 173, b'\\xae': 174, b'\\xaf': 175, b'\\xb0': 176, b'\\xb1': 177, b'\\xb2': 178, b'\\xb3': 179, b'\\xb4': 180, b'\\xb5': 181, b'\\xb6': 182, b'\\xb7': 183, b'\\xb8': 184, b'\\xb9': 185, b'\\xba': 186, b'\\xbb': 187, b'\\xbc': 188, b'\\xbd': 189, b'\\xbe': 190, b'\\xbf': 191, b'\\xc0': 192, b'\\xc1': 193, b'\\xc2': 194, b'\\xc3': 195, b'\\xc4': 196, b'\\xc5': 197, b'\\xc6': 198, b'\\xc7': 199, b'\\xc8': 200, b'\\xc9': 201, b'\\xca': 202, b'\\xcb': 203, b'\\xcc': 204, b'\\xcd': 205, b'\\xce': 206, b'\\xcf': 207, b'\\xd0': 208, b'\\xd1': 209, b'\\xd2': 210, b'\\xd3': 211, b'\\xd4': 212, b'\\xd5': 213, b'\\xd6': 214, b'\\xd7': 215, b'\\xd8': 216, b'\\xd9': 217, b'\\xda': 218, b'\\xdb': 219, b'\\xdc': 220, b'\\xdd': 221, b'\\xde': 222, b'\\xdf': 223, b'\\xe0': 224, b'\\xe1': 225, b'\\xe2': 226, b'\\xe3': 227, b'\\xe4': 228, b'\\xe5': 229, b'\\xe6': 230, b'\\xe7': 231, b'\\xe8': 232, b'\\xe9': 233, b'\\xea': 234, b'\\xeb': 235, b'\\xec': 236, b'\\xed': 237, b'\\xee': 238, b'\\xef': 239, b'\\xf0': 240, b'\\xf1': 241, b'\\xf2': 242, b'\\xf3': 243, b'\\xf4': 244, b'\\xf5': 245, b'\\xf6': 246, b'\\xf7': 247, b'\\xf8': 248, b'\\xf9': 249, b'\\xfa': 250, b'\\xfb': 251, b'\\xfc': 252, b'\\xfd': 253, b'\\xfe': 254, b'\\xff': 255, '<|endoftext|>': 256, 'st': 264, 'est': 265, 'ow': 266, 'low': 267, 'west': 268, 'ne': 269}\n"
     ]
    }
   ],
   "source": [
    "print(encoding_vocab)"
   ]
  },
  {
   "cell_type": "code",
   "execution_count": null,
   "id": "93d6097b",
   "metadata": {},
   "outputs": [
    {
     "data": {
      "text/plain": [
       "{b'\\x00': 0,\n",
       " b'\\x01': 1,\n",
       " b'\\x02': 2,\n",
       " b'\\x03': 3,\n",
       " b'\\x04': 4,\n",
       " b'\\x05': 5,\n",
       " b'\\x06': 6,\n",
       " b'\\x07': 7,\n",
       " b'\\x08': 8,\n",
       " b'\\t': 9,\n",
       " b'\\n': 10,\n",
       " b'\\x0b': 11,\n",
       " b'\\x0c': 12,\n",
       " b'\\r': 13,\n",
       " b'\\x0e': 14,\n",
       " b'\\x0f': 15,\n",
       " b'\\x10': 16,\n",
       " b'\\x11': 17,\n",
       " b'\\x12': 18,\n",
       " b'\\x13': 19,\n",
       " b'\\x14': 20,\n",
       " b'\\x15': 21,\n",
       " b'\\x16': 22,\n",
       " b'\\x17': 23,\n",
       " b'\\x18': 24,\n",
       " b'\\x19': 25,\n",
       " b'\\x1a': 26,\n",
       " b'\\x1b': 27,\n",
       " b'\\x1c': 28,\n",
       " b'\\x1d': 29,\n",
       " b'\\x1e': 30,\n",
       " b'\\x1f': 31,\n",
       " b' ': 32,\n",
       " b'!': 33,\n",
       " b'\"': 34,\n",
       " b'#': 35,\n",
       " b'$': 36,\n",
       " b'%': 37,\n",
       " b'&': 38,\n",
       " b\"'\": 39,\n",
       " b'(': 40,\n",
       " b')': 41,\n",
       " b'*': 42,\n",
       " b'+': 43,\n",
       " b',': 44,\n",
       " b'-': 45,\n",
       " b'.': 46,\n",
       " b'/': 47,\n",
       " b'0': 48,\n",
       " b'1': 49,\n",
       " b'2': 50,\n",
       " b'3': 51,\n",
       " b'4': 52,\n",
       " b'5': 53,\n",
       " b'6': 54,\n",
       " b'7': 55,\n",
       " b'8': 56,\n",
       " b'9': 57,\n",
       " b':': 58,\n",
       " b';': 59,\n",
       " b'<': 60,\n",
       " b'=': 61,\n",
       " b'>': 62,\n",
       " b'?': 63,\n",
       " b'@': 64,\n",
       " b'A': 65,\n",
       " b'B': 66,\n",
       " b'C': 67,\n",
       " b'D': 68,\n",
       " b'E': 69,\n",
       " b'F': 70,\n",
       " b'G': 71,\n",
       " b'H': 72,\n",
       " b'I': 73,\n",
       " b'J': 74,\n",
       " b'K': 75,\n",
       " b'L': 76,\n",
       " b'M': 77,\n",
       " b'N': 78,\n",
       " b'O': 79,\n",
       " b'P': 80,\n",
       " b'Q': 81,\n",
       " b'R': 82,\n",
       " b'S': 83,\n",
       " b'T': 84,\n",
       " b'U': 85,\n",
       " b'V': 86,\n",
       " b'W': 87,\n",
       " b'X': 88,\n",
       " b'Y': 89,\n",
       " b'Z': 90,\n",
       " b'[': 91,\n",
       " b'\\\\': 92,\n",
       " b']': 93,\n",
       " b'^': 94,\n",
       " b'_': 95,\n",
       " b'`': 96,\n",
       " b'a': 97,\n",
       " b'b': 98,\n",
       " b'c': 99,\n",
       " b'd': 100,\n",
       " b'e': 101,\n",
       " b'f': 102,\n",
       " b'g': 103,\n",
       " b'h': 104,\n",
       " b'i': 105,\n",
       " b'j': 106,\n",
       " b'k': 107,\n",
       " b'l': 108,\n",
       " b'm': 109,\n",
       " b'n': 110,\n",
       " b'o': 111,\n",
       " b'p': 112,\n",
       " b'q': 113,\n",
       " b'r': 114,\n",
       " b's': 115,\n",
       " b't': 116,\n",
       " b'u': 117,\n",
       " b'v': 118,\n",
       " b'w': 119,\n",
       " b'x': 120,\n",
       " b'y': 121,\n",
       " b'z': 122,\n",
       " b'{': 123,\n",
       " b'|': 124,\n",
       " b'}': 125,\n",
       " b'~': 126,\n",
       " b'\\x7f': 127,\n",
       " b'\\x80': 128,\n",
       " b'\\x81': 129,\n",
       " b'\\x82': 130,\n",
       " b'\\x83': 131,\n",
       " b'\\x84': 132,\n",
       " b'\\x85': 133,\n",
       " b'\\x86': 134,\n",
       " b'\\x87': 135,\n",
       " b'\\x88': 136,\n",
       " b'\\x89': 137,\n",
       " b'\\x8a': 138,\n",
       " b'\\x8b': 139,\n",
       " b'\\x8c': 140,\n",
       " b'\\x8d': 141,\n",
       " b'\\x8e': 142,\n",
       " b'\\x8f': 143,\n",
       " b'\\x90': 144,\n",
       " b'\\x91': 145,\n",
       " b'\\x92': 146,\n",
       " b'\\x93': 147,\n",
       " b'\\x94': 148,\n",
       " b'\\x95': 149,\n",
       " b'\\x96': 150,\n",
       " b'\\x97': 151,\n",
       " b'\\x98': 152,\n",
       " b'\\x99': 153,\n",
       " b'\\x9a': 154,\n",
       " b'\\x9b': 155,\n",
       " b'\\x9c': 156,\n",
       " b'\\x9d': 157,\n",
       " b'\\x9e': 158,\n",
       " b'\\x9f': 159,\n",
       " b'\\xa0': 160,\n",
       " b'\\xa1': 161,\n",
       " b'\\xa2': 162,\n",
       " b'\\xa3': 163,\n",
       " b'\\xa4': 164,\n",
       " b'\\xa5': 165,\n",
       " b'\\xa6': 166,\n",
       " b'\\xa7': 167,\n",
       " b'\\xa8': 168,\n",
       " b'\\xa9': 169,\n",
       " b'\\xaa': 170,\n",
       " b'\\xab': 171,\n",
       " b'\\xac': 172,\n",
       " b'\\xad': 173,\n",
       " b'\\xae': 174,\n",
       " b'\\xaf': 175,\n",
       " b'\\xb0': 176,\n",
       " b'\\xb1': 177,\n",
       " b'\\xb2': 178,\n",
       " b'\\xb3': 179,\n",
       " b'\\xb4': 180,\n",
       " b'\\xb5': 181,\n",
       " b'\\xb6': 182,\n",
       " b'\\xb7': 183,\n",
       " b'\\xb8': 184,\n",
       " b'\\xb9': 185,\n",
       " b'\\xba': 186,\n",
       " b'\\xbb': 187,\n",
       " b'\\xbc': 188,\n",
       " b'\\xbd': 189,\n",
       " b'\\xbe': 190,\n",
       " b'\\xbf': 191,\n",
       " b'\\xc0': 192,\n",
       " b'\\xc1': 193,\n",
       " b'\\xc2': 194,\n",
       " b'\\xc3': 195,\n",
       " b'\\xc4': 196,\n",
       " b'\\xc5': 197,\n",
       " b'\\xc6': 198,\n",
       " b'\\xc7': 199,\n",
       " b'\\xc8': 200,\n",
       " b'\\xc9': 201,\n",
       " b'\\xca': 202,\n",
       " b'\\xcb': 203,\n",
       " b'\\xcc': 204,\n",
       " b'\\xcd': 205,\n",
       " b'\\xce': 206,\n",
       " b'\\xcf': 207,\n",
       " b'\\xd0': 208,\n",
       " b'\\xd1': 209,\n",
       " b'\\xd2': 210,\n",
       " b'\\xd3': 211,\n",
       " b'\\xd4': 212,\n",
       " b'\\xd5': 213,\n",
       " b'\\xd6': 214,\n",
       " b'\\xd7': 215,\n",
       " b'\\xd8': 216,\n",
       " b'\\xd9': 217,\n",
       " b'\\xda': 218,\n",
       " b'\\xdb': 219,\n",
       " b'\\xdc': 220,\n",
       " b'\\xdd': 221,\n",
       " b'\\xde': 222,\n",
       " b'\\xdf': 223,\n",
       " b'\\xe0': 224,\n",
       " b'\\xe1': 225,\n",
       " b'\\xe2': 226,\n",
       " b'\\xe3': 227,\n",
       " b'\\xe4': 228,\n",
       " b'\\xe5': 229,\n",
       " b'\\xe6': 230,\n",
       " b'\\xe7': 231,\n",
       " b'\\xe8': 232,\n",
       " b'\\xe9': 233,\n",
       " b'\\xea': 234,\n",
       " b'\\xeb': 235,\n",
       " b'\\xec': 236,\n",
       " b'\\xed': 237,\n",
       " b'\\xee': 238,\n",
       " b'\\xef': 239,\n",
       " b'\\xf0': 240,\n",
       " b'\\xf1': 241,\n",
       " b'\\xf2': 242,\n",
       " b'\\xf3': 243,\n",
       " b'\\xf4': 244,\n",
       " b'\\xf5': 245,\n",
       " b'\\xf6': 246,\n",
       " b'\\xf7': 247,\n",
       " b'\\xf8': 248,\n",
       " b'\\xf9': 249,\n",
       " b'\\xfa': 250,\n",
       " b'\\xfb': 251,\n",
       " b'\\xfc': 252,\n",
       " b'\\xfd': 253,\n",
       " b'\\xfe': 254,\n",
       " b'\\xff': 255,\n",
       " '<|endoftext|>': 256,\n",
       " 'st': 257}"
      ]
     },
     "execution_count": 142,
     "metadata": {},
     "output_type": "execute_result"
    }
   ],
   "source": [
    "\n",
    "encoding_vocab"
   ]
  },
  {
   "cell_type": "code",
   "execution_count": 143,
   "id": "77275202",
   "metadata": {},
   "outputs": [
    {
     "data": {
      "text/plain": [
       "defaultdict(int,\n",
       "            {('l', 'o', 'w'): 5,\n",
       "             ('l', 'o', 'w', 'e', 'r'): 2,\n",
       "             ('w', 'i', 'd', 'e', 's', 't'): 3,\n",
       "             ('n', 'e', 'w', 'e', 's', 't'): 6})"
      ]
     },
     "execution_count": 143,
     "metadata": {},
     "output_type": "execute_result"
    }
   ],
   "source": [
    "counting_dict"
   ]
  },
  {
   "cell_type": "code",
   "execution_count": null,
   "id": "bee96a8c",
   "metadata": {},
   "outputs": [
    {
     "name": "stdout",
     "output_type": "stream",
     "text": [
      "[('w', 'i', 'd', 'e', 's', 't')]\n",
      "[('w', 'i', 'd', 'e', 's', 't'), ('n', 'e', 'w', 'e', 's', 't')]\n"
     ]
    }
   ],
   "source": [
    "\n"
   ]
  },
  {
   "cell_type": "code",
   "execution_count": 145,
   "id": "d0c31813",
   "metadata": {},
   "outputs": [
    {
     "data": {
      "text/plain": [
       "defaultdict(int,\n",
       "            {('l', 'o', 'w'): 5,\n",
       "             ('l', 'o', 'w', 'e', 'r'): 2,\n",
       "             ('w', 'i', 'd', 'e', 'st'): 3,\n",
       "             ('n', 'e', 'w', 'e', 'st'): 6})"
      ]
     },
     "execution_count": 145,
     "metadata": {},
     "output_type": "execute_result"
    }
   ],
   "source": [
    "counting_dict"
   ]
  },
  {
   "cell_type": "code",
   "execution_count": 146,
   "id": "53235ed8",
   "metadata": {},
   "outputs": [
    {
     "data": {
      "text/plain": [
       "[('l', 'o', 'w', 'e', 'r'),\n",
       " ('l', 'o', 'w'),\n",
       " ('w', 'i', 'd', 'e', 'st'),\n",
       " ('n', 'e', 'w', 'e', 'st')]"
      ]
     },
     "execution_count": 146,
     "metadata": {},
     "output_type": "execute_result"
    }
   ],
   "source": [
    "parts"
   ]
  },
  {
   "cell_type": "code",
   "execution_count": 147,
   "id": "88ecc357",
   "metadata": {},
   "outputs": [],
   "source": [
    "#ok, now I just gotta wrap all of this shit in a function, so I can make sure that this code is reusable and can be run many many times."
   ]
  },
  {
   "cell_type": "code",
   "execution_count": null,
   "id": "80fba482",
   "metadata": {},
   "outputs": [],
   "source": [
    "# initial vocab:\n",
    "encoding_vocab = {bytes([i]): i for i in range(256)}\n",
    "special_token = \"<|endoftext|>\"\n",
    "encoding_vocab[bytes(special_token)] = 256"
   ]
  },
  {
   "cell_type": "code",
   "execution_count": null,
   "id": "147fb960",
   "metadata": {},
   "outputs": [],
   "source": [
    "re.finditer()"
   ]
  },
  {
   "cell_type": "code",
   "execution_count": 31,
   "id": "03725ae2",
   "metadata": {},
   "outputs": [],
   "source": [
    "fd = os.open(\"../../data/TinyStoriesV2-GPT4-valid.txt\", os.O_RDONLY)\n",
    "data = os.read(fd, os.path.getsize(\"../../data/TinyStoriesV2-GPT4-valid.txt\"))\n",
    "os.close(fd)\n",
    "text = data.decode(\"utf-8\")"
   ]
  },
  {
   "cell_type": "code",
   "execution_count": 38,
   "id": "138f7fb2",
   "metadata": {},
   "outputs": [],
   "source": [
    "\n",
    "# 1) your PAT (Unicode-aware)\n",
    "PAT = r\"\"\"'s|'t|'re|'ve|'m|'ll|'d| ?\\p{L}+| ?\\p{N}+| ?[^\\s\\p{L}\\p{N}]+|\\s+(?!\\S)|\\s+\"\"\"\n",
    "pat = re.compile(PAT)\n",
    "\n",
    "# special tokens to strip/split on\n",
    "specials = [\"<|endoftext|>\"]  # add more if needed\n",
    "splitter = re.compile(\"|\".join(re.escape(t) for t in specials))\n",
    "\n",
    "def pretokenize(text):\n",
    "    tokens = []\n",
    "    for chunk in splitter.split(text):      # 1) split across specials\n",
    "        if not chunk:                       # 2) specials are stripped (not captured)\n",
    "            continue\n",
    "        for m in pat.finditer(chunk):       # 3) run PAT per chunk\n",
    "            tokens.append(m.group())\n",
    "    return tokens\n"
   ]
  },
  {
   "cell_type": "code",
   "execution_count": 40,
   "id": "3fae3ba1",
   "metadata": {},
   "outputs": [
    {
     "data": {
      "text/plain": [
       "5419001"
      ]
     },
     "execution_count": 40,
     "metadata": {},
     "output_type": "execute_result"
    }
   ],
   "source": [
    "len(pretokenize(text))"
   ]
  },
  {
   "cell_type": "code",
   "execution_count": null,
   "id": "8b3ffa9b",
   "metadata": {},
   "outputs": [],
   "source": [
    "def run_train_bpe(\n",
    "    input_path: str | os.PathLike,\n",
    "    vocab_size: int,\n",
    "    special_tokens: list[str],\n",
    "    **kwargs,\n",
    ") -> tuple[dict[int, bytes], list[tuple[bytes, bytes]]]:\n",
    "    \"\"\"Given the path to an input corpus, run train a BPE tokenizer and\n",
    "    output its vocabulary and merges.\n",
    "\n",
    "    Args:\n",
    "        input_path (str | os.PathLike): Path to BPE tokenizer training data.\n",
    "        vocab_size (int): Total number of items in the tokenizer's vocabulary (including special tokens).\n",
    "        special_tokens (list[str]): A list of string special tokens to be added to the tokenizer vocabulary.\n",
    "            These strings will never be split into multiple tokens, and will always be\n",
    "            kept as a single token. If these special tokens occur in the `input_path`,\n",
    "            they are treated as any other string.\n",
    "\n",
    "    Returns:\n",
    "        tuple[dict[int, bytes], list[tuple[bytes, bytes]]]:\n",
    "            vocab:\n",
    "                The trained tokenizer vocabulary, a mapping from int (token ID in the vocabulary)\n",
    "                to bytes (token bytes)\n",
    "            merges:\n",
    "                BPE merges. Each list item is a tuple of bytes (<token1>, <token2>),\n",
    "                representing that <token1> was merged with <token2>.\n",
    "                Merges are ordered by order of creation.\n",
    "    \"\"\"\n",
    "    raise NotImplementedError"
   ]
  },
  {
   "cell_type": "markdown",
   "id": "266bc99e",
   "metadata": {},
   "source": [
    "- how does multiprocessing work?\n"
   ]
  }
 ],
 "metadata": {
  "kernelspec": {
   "display_name": "cs336 (3.12.2)",
   "language": "python",
   "name": "python3"
  },
  "language_info": {
   "codemirror_mode": {
    "name": "ipython",
    "version": 3
   },
   "file_extension": ".py",
   "mimetype": "text/x-python",
   "name": "python",
   "nbconvert_exporter": "python",
   "pygments_lexer": "ipython3",
   "version": "3.12.2"
  }
 },
 "nbformat": 4,
 "nbformat_minor": 5
}
